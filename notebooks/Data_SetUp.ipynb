{
 "cells": [
  {
   "cell_type": "markdown",
   "source": [
    "# Data SetUp\n",
    "\n",
    "## Imports"
   ],
   "metadata": {
    "collapsed": false
   },
   "id": "43cdb0a3604fcdb5"
  },
  {
   "cell_type": "code",
   "execution_count": 8,
   "id": "initial_id",
   "metadata": {
    "collapsed": true,
    "ExecuteTime": {
     "end_time": "2025-08-22T19:20:31.446701Z",
     "start_time": "2025-08-22T19:20:31.434119600Z"
    }
   },
   "outputs": [],
   "source": [
    "import pandas as pd\n",
    "import numpy as np\n",
    "import shutil\n",
    "from pathlib import Path\n",
    "from sklearn.model_selection import train_test_split\n",
    "from sklearn.preprocessing import StandardScaler\n",
    "import kagglehub"
   ]
  },
  {
   "cell_type": "markdown",
   "source": [
    "# DataSet DownLoad & SetUp"
   ],
   "metadata": {
    "collapsed": false
   },
   "id": "50743dd36a07dc3d"
  },
  {
   "cell_type": "code",
   "outputs": [
    {
     "name": "stdout",
     "output_type": "stream",
     "text": [
      "✔️ Dataset is already downloaded.\n"
     ]
    }
   ],
   "source": [
    "# --- Directories ---\n",
    "raw_data_dir = Path(\"raw_data\")\n",
    "processed_data_dir = Path(\"processed_data\")\n",
    "\n",
    "# Create directories if not exist\n",
    "raw_data_dir.mkdir(exist_ok=True)\n",
    "processed_data_dir.mkdir(exist_ok=True)\n",
    "\n",
    "# File path for raw dataset\n",
    "raw_dataset = raw_data_dir / \"Mall_Customers.csv\"\n",
    "\n",
    "# Check and download dataset if not already available\n",
    "if raw_dataset.exists():\n",
    "    print(\"✔️ Dataset is already downloaded.\")\n",
    "else:\n",
    "    dataset_path = Path(kagglehub.dataset_download(\"vjchoudhary7/customer-segmentation-tutorial-in-python\"))\n",
    "\n",
    "    if not dataset_path.exists():\n",
    "        raise FileNotFoundError(\"⚠ Dataset not found.\")\n",
    "\n",
    "    # Handle possible subfolder\n",
    "    data_root = dataset_path / \"Mall_Customers.csv\" if (dataset_path / \"Mall_Customers.csv\").exists() else dataset_path\n",
    "\n",
    "    # Copy CSV file(s) into raw_data folder\n",
    "    for item in dataset_path.iterdir():\n",
    "        if item.suffix == \".csv\":\n",
    "            target = raw_data_dir / item.name\n",
    "            shutil.copy2(item, target)\n",
    "\n",
    "    print(\"✔️ Dataset successfully downloaded to:\", raw_data_dir)"
   ],
   "metadata": {
    "collapsed": false,
    "ExecuteTime": {
     "end_time": "2025-08-22T19:20:31.508045300Z",
     "start_time": "2025-08-22T19:20:31.468614600Z"
    }
   },
   "id": "a7f699456c8244b7",
   "execution_count": 9
  },
  {
   "cell_type": "markdown",
   "source": [
    "## Load Dataset"
   ],
   "metadata": {
    "collapsed": false
   },
   "id": "2abe5675a7dca91d"
  },
  {
   "cell_type": "code",
   "outputs": [
    {
     "name": "stdout",
     "output_type": "stream",
     "text": [
      "✔️ Dataset loaded successfully!\n",
      "Shape of dataset: (200, 5)\n"
     ]
    },
    {
     "data": {
      "text/plain": "   CustomerID  Gender  Age  Annual Income (k$)  Spending Score (1-100)\n0           1    Male   19                  15                      39\n1           2    Male   21                  15                      81\n2           3  Female   20                  16                       6\n3           4  Female   23                  16                      77\n4           5  Female   31                  17                      40",
      "text/html": "<div>\n<style scoped>\n    .dataframe tbody tr th:only-of-type {\n        vertical-align: middle;\n    }\n\n    .dataframe tbody tr th {\n        vertical-align: top;\n    }\n\n    .dataframe thead th {\n        text-align: right;\n    }\n</style>\n<table border=\"1\" class=\"dataframe\">\n  <thead>\n    <tr style=\"text-align: right;\">\n      <th></th>\n      <th>CustomerID</th>\n      <th>Gender</th>\n      <th>Age</th>\n      <th>Annual Income (k$)</th>\n      <th>Spending Score (1-100)</th>\n    </tr>\n  </thead>\n  <tbody>\n    <tr>\n      <th>0</th>\n      <td>1</td>\n      <td>Male</td>\n      <td>19</td>\n      <td>15</td>\n      <td>39</td>\n    </tr>\n    <tr>\n      <th>1</th>\n      <td>2</td>\n      <td>Male</td>\n      <td>21</td>\n      <td>15</td>\n      <td>81</td>\n    </tr>\n    <tr>\n      <th>2</th>\n      <td>3</td>\n      <td>Female</td>\n      <td>20</td>\n      <td>16</td>\n      <td>6</td>\n    </tr>\n    <tr>\n      <th>3</th>\n      <td>4</td>\n      <td>Female</td>\n      <td>23</td>\n      <td>16</td>\n      <td>77</td>\n    </tr>\n    <tr>\n      <th>4</th>\n      <td>5</td>\n      <td>Female</td>\n      <td>31</td>\n      <td>17</td>\n      <td>40</td>\n    </tr>\n  </tbody>\n</table>\n</div>"
     },
     "execution_count": 10,
     "metadata": {},
     "output_type": "execute_result"
    }
   ],
   "source": [
    "df = pd.read_csv(raw_dataset)\n",
    "\n",
    "print(\"✔️ Dataset loaded successfully!\")\n",
    "print(\"Shape of dataset:\", df.shape)\n",
    "\n",
    "df.head()\n"
   ],
   "metadata": {
    "collapsed": false,
    "ExecuteTime": {
     "end_time": "2025-08-22T19:20:31.686519300Z",
     "start_time": "2025-08-22T19:20:31.503083500Z"
    }
   },
   "id": "61457f23dee6340",
   "execution_count": 10
  },
  {
   "cell_type": "markdown",
   "source": [
    "## Basic Info"
   ],
   "metadata": {
    "collapsed": false
   },
   "id": "1dff46fe038f5f89"
  },
  {
   "cell_type": "code",
   "outputs": [
    {
     "name": "stdout",
     "output_type": "stream",
     "text": [
      "<class 'pandas.core.frame.DataFrame'>\n",
      "RangeIndex: 200 entries, 0 to 199\n",
      "Data columns (total 5 columns):\n",
      " #   Column                  Non-Null Count  Dtype \n",
      "---  ------                  --------------  ----- \n",
      " 0   CustomerID              200 non-null    int64 \n",
      " 1   Gender                  200 non-null    object\n",
      " 2   Age                     200 non-null    int64 \n",
      " 3   Annual Income (k$)      200 non-null    int64 \n",
      " 4   Spending Score (1-100)  200 non-null    int64 \n",
      "dtypes: int64(4), object(1)\n",
      "memory usage: 7.9+ KB\n",
      "\n",
      "Missing values per column:\n",
      "CustomerID                0\n",
      "Gender                    0\n",
      "Age                       0\n",
      "Annual Income (k$)        0\n",
      "Spending Score (1-100)    0\n",
      "dtype: int64\n"
     ]
    }
   ],
   "source": [
    "df.info()\n",
    "\n",
    "# --- Check for missing values ---\n",
    "print(\"\\nMissing values per column:\")\n",
    "print(df.isnull().sum())\n"
   ],
   "metadata": {
    "collapsed": false,
    "ExecuteTime": {
     "end_time": "2025-08-22T19:20:32.004959300Z",
     "start_time": "2025-08-22T19:20:31.681571600Z"
    }
   },
   "id": "23cd846ded17050d",
   "execution_count": 11
  },
  {
   "cell_type": "markdown",
   "source": [
    "## Drop Unnecessary Columns"
   ],
   "metadata": {
    "collapsed": false
   },
   "id": "3481a9e63f94dbe"
  },
  {
   "cell_type": "code",
   "outputs": [
    {
     "name": "stdout",
     "output_type": "stream",
     "text": [
      "✔️ Dropped 'CustomerID'. New shape: (200, 4)\n"
     ]
    },
    {
     "data": {
      "text/plain": "   Gender  Age  Annual Income (k$)  Spending Score (1-100)\n0    Male   19                  15                      39\n1    Male   21                  15                      81\n2  Female   20                  16                       6\n3  Female   23                  16                      77\n4  Female   31                  17                      40",
      "text/html": "<div>\n<style scoped>\n    .dataframe tbody tr th:only-of-type {\n        vertical-align: middle;\n    }\n\n    .dataframe tbody tr th {\n        vertical-align: top;\n    }\n\n    .dataframe thead th {\n        text-align: right;\n    }\n</style>\n<table border=\"1\" class=\"dataframe\">\n  <thead>\n    <tr style=\"text-align: right;\">\n      <th></th>\n      <th>Gender</th>\n      <th>Age</th>\n      <th>Annual Income (k$)</th>\n      <th>Spending Score (1-100)</th>\n    </tr>\n  </thead>\n  <tbody>\n    <tr>\n      <th>0</th>\n      <td>Male</td>\n      <td>19</td>\n      <td>15</td>\n      <td>39</td>\n    </tr>\n    <tr>\n      <th>1</th>\n      <td>Male</td>\n      <td>21</td>\n      <td>15</td>\n      <td>81</td>\n    </tr>\n    <tr>\n      <th>2</th>\n      <td>Female</td>\n      <td>20</td>\n      <td>16</td>\n      <td>6</td>\n    </tr>\n    <tr>\n      <th>3</th>\n      <td>Female</td>\n      <td>23</td>\n      <td>16</td>\n      <td>77</td>\n    </tr>\n    <tr>\n      <th>4</th>\n      <td>Female</td>\n      <td>31</td>\n      <td>17</td>\n      <td>40</td>\n    </tr>\n  </tbody>\n</table>\n</div>"
     },
     "execution_count": 12,
     "metadata": {},
     "output_type": "execute_result"
    }
   ],
   "source": [
    "# --- Drop CustomerID (identifier, not useful for clustering) ---\n",
    "if \"CustomerID\" in df.columns:\n",
    "    df = df.drop(columns=[\"CustomerID\"])\n",
    "\n",
    "print(\"✔️ Dropped 'CustomerID'. New shape:\", df.shape)\n",
    "df.head()\n"
   ],
   "metadata": {
    "collapsed": false,
    "ExecuteTime": {
     "end_time": "2025-08-22T19:20:32.042542900Z",
     "start_time": "2025-08-22T19:20:31.967693700Z"
    }
   },
   "id": "4c8948da800d2940",
   "execution_count": 12
  },
  {
   "cell_type": "markdown",
   "source": [
    "## Encode Categorical Columns"
   ],
   "metadata": {
    "collapsed": false
   },
   "id": "3333cc4c89e6df73"
  },
  {
   "cell_type": "code",
   "outputs": [
    {
     "name": "stdout",
     "output_type": "stream",
     "text": [
      "✔️ Encoded 'Gender' column (Male=0, Female=1).\n"
     ]
    },
    {
     "data": {
      "text/plain": "   Gender  Age  Annual Income (k$)  Spending Score (1-100)\n0       0   19                  15                      39\n1       0   21                  15                      81\n2       1   20                  16                       6\n3       1   23                  16                      77\n4       1   31                  17                      40",
      "text/html": "<div>\n<style scoped>\n    .dataframe tbody tr th:only-of-type {\n        vertical-align: middle;\n    }\n\n    .dataframe tbody tr th {\n        vertical-align: top;\n    }\n\n    .dataframe thead th {\n        text-align: right;\n    }\n</style>\n<table border=\"1\" class=\"dataframe\">\n  <thead>\n    <tr style=\"text-align: right;\">\n      <th></th>\n      <th>Gender</th>\n      <th>Age</th>\n      <th>Annual Income (k$)</th>\n      <th>Spending Score (1-100)</th>\n    </tr>\n  </thead>\n  <tbody>\n    <tr>\n      <th>0</th>\n      <td>0</td>\n      <td>19</td>\n      <td>15</td>\n      <td>39</td>\n    </tr>\n    <tr>\n      <th>1</th>\n      <td>0</td>\n      <td>21</td>\n      <td>15</td>\n      <td>81</td>\n    </tr>\n    <tr>\n      <th>2</th>\n      <td>1</td>\n      <td>20</td>\n      <td>16</td>\n      <td>6</td>\n    </tr>\n    <tr>\n      <th>3</th>\n      <td>1</td>\n      <td>23</td>\n      <td>16</td>\n      <td>77</td>\n    </tr>\n    <tr>\n      <th>4</th>\n      <td>1</td>\n      <td>31</td>\n      <td>17</td>\n      <td>40</td>\n    </tr>\n  </tbody>\n</table>\n</div>"
     },
     "execution_count": 13,
     "metadata": {},
     "output_type": "execute_result"
    }
   ],
   "source": [
    "# --- Encode Gender (Male=0, Female=1) ---\n",
    "if \"Gender\" in df.columns:\n",
    "    df[\"Gender\"] = df[\"Gender\"].map({\"Male\": 0, \"Female\": 1})\n",
    "    print(\"✔️ Encoded 'Gender' column (Male=0, Female=1).\")\n",
    "\n",
    "df.head()\n"
   ],
   "metadata": {
    "collapsed": false,
    "ExecuteTime": {
     "end_time": "2025-08-22T19:20:32.043540500Z",
     "start_time": "2025-08-22T19:20:32.009943Z"
    }
   },
   "id": "1f68b359b93f0d9",
   "execution_count": 13
  },
  {
   "cell_type": "markdown",
   "source": [
    "## Save Processed Dataset"
   ],
   "metadata": {
    "collapsed": false
   },
   "id": "a6aede97a068bd00"
  },
  {
   "cell_type": "code",
   "outputs": [
    {
     "name": "stdout",
     "output_type": "stream",
     "text": [
      "✔️ Processed dataset saved to: processed_data\\customers_clean.csv\n"
     ]
    }
   ],
   "source": [
    "processed_dataset = processed_data_dir / \"customers_clean.csv\"\n",
    "df.to_csv(processed_dataset, index=False)\n",
    "\n",
    "print(\"✔️ Processed dataset saved to:\", processed_dataset)\n"
   ],
   "metadata": {
    "collapsed": false,
    "ExecuteTime": {
     "end_time": "2025-08-22T19:20:32.098462400Z",
     "start_time": "2025-08-22T19:20:32.029155Z"
    }
   },
   "id": "33c3f46948daa5d5",
   "execution_count": 14
  }
 ],
 "metadata": {
  "kernelspec": {
   "display_name": "Python 3",
   "language": "python",
   "name": "python3"
  },
  "language_info": {
   "codemirror_mode": {
    "name": "ipython",
    "version": 2
   },
   "file_extension": ".py",
   "mimetype": "text/x-python",
   "name": "python",
   "nbconvert_exporter": "python",
   "pygments_lexer": "ipython2",
   "version": "2.7.6"
  }
 },
 "nbformat": 4,
 "nbformat_minor": 5
}
